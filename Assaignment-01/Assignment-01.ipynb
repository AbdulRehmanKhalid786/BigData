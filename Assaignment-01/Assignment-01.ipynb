{
 "cells": [
  {
   "cell_type": "markdown",
   "id": "beda86e9",
   "metadata": {},
   "source": [
    "### 1. Find the total number of patients of each disease (diagnosis) and plot in histogram\n",
    " "
   ]
  },
  {
   "cell_type": "code",
   "execution_count": 34,
   "id": "9b2233bd",
   "metadata": {},
   "outputs": [],
   "source": [
    "import pandas as pd"
   ]
  },
  {
   "cell_type": "code",
   "execution_count": 35,
   "id": "c70e813d",
   "metadata": {},
   "outputs": [],
   "source": [
    "df=pd.read_csv(\"jsrt_metadata.csv\")"
   ]
  },
  {
   "cell_type": "code",
   "execution_count": 36,
   "id": "8cec2dee",
   "metadata": {},
   "outputs": [],
   "source": [
    "import numpy as np"
   ]
  },
  {
   "cell_type": "code",
   "execution_count": 37,
   "id": "c014ed60",
   "metadata": {},
   "outputs": [
    {
     "data": {
      "text/html": [
       "<div>\n",
       "<style scoped>\n",
       "    .dataframe tbody tr th:only-of-type {\n",
       "        vertical-align: middle;\n",
       "    }\n",
       "\n",
       "    .dataframe tbody tr th {\n",
       "        vertical-align: top;\n",
       "    }\n",
       "\n",
       "    .dataframe thead th {\n",
       "        text-align: right;\n",
       "    }\n",
       "</style>\n",
       "<table border=\"1\" class=\"dataframe\">\n",
       "  <thead>\n",
       "    <tr style=\"text-align: right;\">\n",
       "      <th></th>\n",
       "      <th>study_id</th>\n",
       "      <th>subtlety</th>\n",
       "      <th>size</th>\n",
       "      <th>age</th>\n",
       "      <th>gender</th>\n",
       "      <th>x</th>\n",
       "      <th>y</th>\n",
       "      <th>state</th>\n",
       "      <th>position</th>\n",
       "      <th>diagnosis</th>\n",
       "    </tr>\n",
       "  </thead>\n",
       "  <tbody>\n",
       "    <tr>\n",
       "      <th>0</th>\n",
       "      <td>JPCLN001.png</td>\n",
       "      <td>5.0</td>\n",
       "      <td>15.0</td>\n",
       "      <td>53</td>\n",
       "      <td>Male</td>\n",
       "      <td>1634.0</td>\n",
       "      <td>692.0</td>\n",
       "      <td>malignant</td>\n",
       "      <td>l.upper lobe</td>\n",
       "      <td>lung cancer</td>\n",
       "    </tr>\n",
       "    <tr>\n",
       "      <th>1</th>\n",
       "      <td>JPCLN002.png</td>\n",
       "      <td>5.0</td>\n",
       "      <td>30.0</td>\n",
       "      <td>78</td>\n",
       "      <td>Female</td>\n",
       "      <td>1614.0</td>\n",
       "      <td>1090.0</td>\n",
       "      <td>benign</td>\n",
       "      <td>l.upper lobe(S5)</td>\n",
       "      <td>pulmonary hematoma</td>\n",
       "    </tr>\n",
       "    <tr>\n",
       "      <th>2</th>\n",
       "      <td>JPCLN003.png</td>\n",
       "      <td>5.0</td>\n",
       "      <td>30.0</td>\n",
       "      <td>63</td>\n",
       "      <td>Female</td>\n",
       "      <td>1303.0</td>\n",
       "      <td>447.0</td>\n",
       "      <td>malignant</td>\n",
       "      <td>l.upper lobe(S1+2)</td>\n",
       "      <td>lung cancer</td>\n",
       "    </tr>\n",
       "    <tr>\n",
       "      <th>3</th>\n",
       "      <td>JPCLN004.png</td>\n",
       "      <td>5.0</td>\n",
       "      <td>14.0</td>\n",
       "      <td>68</td>\n",
       "      <td>Female</td>\n",
       "      <td>606.0</td>\n",
       "      <td>836.0</td>\n",
       "      <td>benign</td>\n",
       "      <td>r.upper lobe</td>\n",
       "      <td>Inflammatory mass</td>\n",
       "    </tr>\n",
       "    <tr>\n",
       "      <th>4</th>\n",
       "      <td>JPCLN005.png</td>\n",
       "      <td>5.0</td>\n",
       "      <td>35.0</td>\n",
       "      <td>73</td>\n",
       "      <td>Female</td>\n",
       "      <td>1438.0</td>\n",
       "      <td>692.0</td>\n",
       "      <td>malignant</td>\n",
       "      <td>l.upper lobe(S3)</td>\n",
       "      <td>lung cancer</td>\n",
       "    </tr>\n",
       "    <tr>\n",
       "      <th>...</th>\n",
       "      <td>...</td>\n",
       "      <td>...</td>\n",
       "      <td>...</td>\n",
       "      <td>...</td>\n",
       "      <td>...</td>\n",
       "      <td>...</td>\n",
       "      <td>...</td>\n",
       "      <td>...</td>\n",
       "      <td>...</td>\n",
       "      <td>...</td>\n",
       "    </tr>\n",
       "    <tr>\n",
       "      <th>242</th>\n",
       "      <td>JPCNN089.png</td>\n",
       "      <td>NaN</td>\n",
       "      <td>NaN</td>\n",
       "      <td>50</td>\n",
       "      <td>Male</td>\n",
       "      <td>NaN</td>\n",
       "      <td>NaN</td>\n",
       "      <td>non-nodule</td>\n",
       "      <td>NaN</td>\n",
       "      <td>NaN</td>\n",
       "    </tr>\n",
       "    <tr>\n",
       "      <th>243</th>\n",
       "      <td>JPCNN090.png</td>\n",
       "      <td>NaN</td>\n",
       "      <td>NaN</td>\n",
       "      <td>68</td>\n",
       "      <td>Female</td>\n",
       "      <td>NaN</td>\n",
       "      <td>NaN</td>\n",
       "      <td>non-nodule</td>\n",
       "      <td>NaN</td>\n",
       "      <td>NaN</td>\n",
       "    </tr>\n",
       "    <tr>\n",
       "      <th>244</th>\n",
       "      <td>JPCNN091.png</td>\n",
       "      <td>NaN</td>\n",
       "      <td>NaN</td>\n",
       "      <td>81</td>\n",
       "      <td>Male</td>\n",
       "      <td>NaN</td>\n",
       "      <td>NaN</td>\n",
       "      <td>non-nodule</td>\n",
       "      <td>NaN</td>\n",
       "      <td>NaN</td>\n",
       "    </tr>\n",
       "    <tr>\n",
       "      <th>245</th>\n",
       "      <td>JPCNN092.png</td>\n",
       "      <td>NaN</td>\n",
       "      <td>NaN</td>\n",
       "      <td>70</td>\n",
       "      <td>Female</td>\n",
       "      <td>NaN</td>\n",
       "      <td>NaN</td>\n",
       "      <td>non-nodule</td>\n",
       "      <td>NaN</td>\n",
       "      <td>NaN</td>\n",
       "    </tr>\n",
       "    <tr>\n",
       "      <th>246</th>\n",
       "      <td>JPCNN093.png</td>\n",
       "      <td>NaN</td>\n",
       "      <td>NaN</td>\n",
       "      <td>41</td>\n",
       "      <td>Male</td>\n",
       "      <td>NaN</td>\n",
       "      <td>NaN</td>\n",
       "      <td>non-nodule</td>\n",
       "      <td>NaN</td>\n",
       "      <td>NaN</td>\n",
       "    </tr>\n",
       "  </tbody>\n",
       "</table>\n",
       "<p>247 rows × 10 columns</p>\n",
       "</div>"
      ],
      "text/plain": [
       "         study_id  subtlety  size age  gender       x       y       state  \\\n",
       "0    JPCLN001.png       5.0  15.0  53    Male  1634.0   692.0   malignant   \n",
       "1    JPCLN002.png       5.0  30.0  78  Female  1614.0  1090.0      benign   \n",
       "2    JPCLN003.png       5.0  30.0  63  Female  1303.0   447.0   malignant   \n",
       "3    JPCLN004.png       5.0  14.0  68  Female   606.0   836.0      benign   \n",
       "4    JPCLN005.png       5.0  35.0  73  Female  1438.0   692.0   malignant   \n",
       "..            ...       ...   ...  ..     ...     ...     ...         ...   \n",
       "242  JPCNN089.png       NaN   NaN  50    Male     NaN     NaN  non-nodule   \n",
       "243  JPCNN090.png       NaN   NaN  68  Female     NaN     NaN  non-nodule   \n",
       "244  JPCNN091.png       NaN   NaN  81    Male     NaN     NaN  non-nodule   \n",
       "245  JPCNN092.png       NaN   NaN  70  Female     NaN     NaN  non-nodule   \n",
       "246  JPCNN093.png       NaN   NaN  41    Male     NaN     NaN  non-nodule   \n",
       "\n",
       "               position           diagnosis  \n",
       "0          l.upper lobe         lung cancer  \n",
       "1      l.upper lobe(S5)  pulmonary hematoma  \n",
       "2    l.upper lobe(S1+2)         lung cancer  \n",
       "3          r.upper lobe   Inflammatory mass  \n",
       "4      l.upper lobe(S3)         lung cancer  \n",
       "..                  ...                 ...  \n",
       "242                 NaN                 NaN  \n",
       "243                 NaN                 NaN  \n",
       "244                 NaN                 NaN  \n",
       "245                 NaN                 NaN  \n",
       "246                 NaN                 NaN  \n",
       "\n",
       "[247 rows x 10 columns]"
      ]
     },
     "execution_count": 37,
     "metadata": {},
     "output_type": "execute_result"
    }
   ],
   "source": [
    "df"
   ]
  },
  {
   "cell_type": "code",
   "execution_count": 38,
   "id": "f5fe6e73",
   "metadata": {},
   "outputs": [
    {
     "data": {
      "text/plain": [
       "study_id      0\n",
       "subtlety     93\n",
       "size         93\n",
       "age           0\n",
       "gender        0\n",
       "x            93\n",
       "y            93\n",
       "state         0\n",
       "position     93\n",
       "diagnosis    93\n",
       "dtype: int64"
      ]
     },
     "execution_count": 38,
     "metadata": {},
     "output_type": "execute_result"
    }
   ],
   "source": [
    "df.isnull().sum()"
   ]
  },
  {
   "cell_type": "code",
   "execution_count": 39,
   "id": "b2a2be90",
   "metadata": {},
   "outputs": [
    {
     "data": {
      "text/plain": [
       "0      5.0\n",
       "1      5.0\n",
       "2      5.0\n",
       "3      5.0\n",
       "4      5.0\n",
       "      ... \n",
       "242    NaN\n",
       "243    NaN\n",
       "244    NaN\n",
       "245    NaN\n",
       "246    NaN\n",
       "Name: subtlety, Length: 247, dtype: float64"
      ]
     },
     "execution_count": 39,
     "metadata": {},
     "output_type": "execute_result"
    }
   ],
   "source": [
    "df[\"subtlety\"]"
   ]
  },
  {
   "cell_type": "code",
   "execution_count": 40,
   "id": "8a65d56a",
   "metadata": {},
   "outputs": [],
   "source": [
    "m = df[\"subtlety\"].astype(\"float\").mean()"
   ]
  },
  {
   "cell_type": "code",
   "execution_count": 41,
   "id": "6634780c",
   "metadata": {},
   "outputs": [],
   "source": [
    "m=int(m)"
   ]
  },
  {
   "cell_type": "code",
   "execution_count": 42,
   "id": "c12def0f",
   "metadata": {},
   "outputs": [],
   "source": [
    "df[\"subtlety\"].replace(np.nan,m,inplace=True)"
   ]
  },
  {
   "cell_type": "code",
   "execution_count": 43,
   "id": "0f5ff3f5",
   "metadata": {},
   "outputs": [
    {
     "data": {
      "text/plain": [
       "study_id      0\n",
       "subtlety      0\n",
       "size         93\n",
       "age           0\n",
       "gender        0\n",
       "x            93\n",
       "y            93\n",
       "state         0\n",
       "position     93\n",
       "diagnosis    93\n",
       "dtype: int64"
      ]
     },
     "execution_count": 43,
     "metadata": {},
     "output_type": "execute_result"
    }
   ],
   "source": [
    "df.isnull().sum()"
   ]
  },
  {
   "cell_type": "code",
   "execution_count": 44,
   "id": "7e3c947b",
   "metadata": {},
   "outputs": [
    {
     "data": {
      "text/plain": [
       "0      15.0\n",
       "1      30.0\n",
       "2      30.0\n",
       "3      14.0\n",
       "4      35.0\n",
       "       ... \n",
       "242     NaN\n",
       "243     NaN\n",
       "244     NaN\n",
       "245     NaN\n",
       "246     NaN\n",
       "Name: size, Length: 247, dtype: float64"
      ]
     },
     "execution_count": 44,
     "metadata": {},
     "output_type": "execute_result"
    }
   ],
   "source": [
    "df[\"size\"]"
   ]
  },
  {
   "cell_type": "code",
   "execution_count": 45,
   "id": "fae5b970",
   "metadata": {},
   "outputs": [],
   "source": [
    "m = df[\"size\"].astype(\"float\").mean()"
   ]
  },
  {
   "cell_type": "code",
   "execution_count": 46,
   "id": "9b2ed078",
   "metadata": {},
   "outputs": [],
   "source": [
    "m=int(m)"
   ]
  },
  {
   "cell_type": "code",
   "execution_count": 47,
   "id": "9bbeef44",
   "metadata": {},
   "outputs": [],
   "source": [
    "df[\"size\"].replace(np.nan,m,inplace=True)"
   ]
  },
  {
   "cell_type": "code",
   "execution_count": 48,
   "id": "bb74ee50",
   "metadata": {},
   "outputs": [
    {
     "data": {
      "text/plain": [
       "study_id      0\n",
       "subtlety      0\n",
       "size          0\n",
       "age           0\n",
       "gender        0\n",
       "x            93\n",
       "y            93\n",
       "state         0\n",
       "position     93\n",
       "diagnosis    93\n",
       "dtype: int64"
      ]
     },
     "execution_count": 48,
     "metadata": {},
     "output_type": "execute_result"
    }
   ],
   "source": [
    "df.isnull().sum()"
   ]
  },
  {
   "cell_type": "code",
   "execution_count": 49,
   "id": "96431917",
   "metadata": {},
   "outputs": [
    {
     "data": {
      "text/plain": [
       "0      1634.0\n",
       "1      1614.0\n",
       "2      1303.0\n",
       "3       606.0\n",
       "4      1438.0\n",
       "        ...  \n",
       "242       NaN\n",
       "243       NaN\n",
       "244       NaN\n",
       "245       NaN\n",
       "246       NaN\n",
       "Name: x, Length: 247, dtype: float64"
      ]
     },
     "execution_count": 49,
     "metadata": {},
     "output_type": "execute_result"
    }
   ],
   "source": [
    "df[\"x\"]"
   ]
  },
  {
   "cell_type": "code",
   "execution_count": 50,
   "id": "2d1b7ec6",
   "metadata": {},
   "outputs": [],
   "source": [
    "m = df[\"x\"].astype(\"float\").mean()"
   ]
  },
  {
   "cell_type": "code",
   "execution_count": 51,
   "id": "4676daa4",
   "metadata": {},
   "outputs": [],
   "source": [
    "m=\"{:.1f}\".format(m)"
   ]
  },
  {
   "cell_type": "code",
   "execution_count": 52,
   "id": "54e0b6e1",
   "metadata": {},
   "outputs": [],
   "source": [
    "df[\"x\"].replace(np.nan,m,inplace=True)"
   ]
  },
  {
   "cell_type": "code",
   "execution_count": 53,
   "id": "7441f957",
   "metadata": {},
   "outputs": [
    {
     "data": {
      "text/plain": [
       "study_id      0\n",
       "subtlety      0\n",
       "size          0\n",
       "age           0\n",
       "gender        0\n",
       "x             0\n",
       "y            93\n",
       "state         0\n",
       "position     93\n",
       "diagnosis    93\n",
       "dtype: int64"
      ]
     },
     "execution_count": 53,
     "metadata": {},
     "output_type": "execute_result"
    }
   ],
   "source": [
    "df.isnull().sum()"
   ]
  },
  {
   "cell_type": "code",
   "execution_count": 54,
   "id": "d0761b7c",
   "metadata": {},
   "outputs": [
    {
     "data": {
      "text/plain": [
       "0       692.0\n",
       "1      1090.0\n",
       "2       447.0\n",
       "3       836.0\n",
       "4       692.0\n",
       "        ...  \n",
       "242       NaN\n",
       "243       NaN\n",
       "244       NaN\n",
       "245       NaN\n",
       "246       NaN\n",
       "Name: y, Length: 247, dtype: float64"
      ]
     },
     "execution_count": 54,
     "metadata": {},
     "output_type": "execute_result"
    }
   ],
   "source": [
    "df['y']"
   ]
  },
  {
   "cell_type": "code",
   "execution_count": 55,
   "id": "89fbba03",
   "metadata": {},
   "outputs": [],
   "source": [
    "m = df[\"y\"].astype(\"float\").mean()"
   ]
  },
  {
   "cell_type": "code",
   "execution_count": 56,
   "id": "d1d5084d",
   "metadata": {},
   "outputs": [],
   "source": [
    "m=\"{:.1f}\".format(m)"
   ]
  },
  {
   "cell_type": "code",
   "execution_count": 57,
   "id": "3a377ff8",
   "metadata": {},
   "outputs": [],
   "source": [
    "df[\"y\"].replace(np.nan,m,inplace=True)"
   ]
  },
  {
   "cell_type": "code",
   "execution_count": 58,
   "id": "ddf8e6da",
   "metadata": {},
   "outputs": [
    {
     "data": {
      "text/plain": [
       "study_id      0\n",
       "subtlety      0\n",
       "size          0\n",
       "age           0\n",
       "gender        0\n",
       "x             0\n",
       "y             0\n",
       "state         0\n",
       "position     93\n",
       "diagnosis    93\n",
       "dtype: int64"
      ]
     },
     "execution_count": 58,
     "metadata": {},
     "output_type": "execute_result"
    }
   ],
   "source": [
    "df.isnull().sum()"
   ]
  },
  {
   "cell_type": "code",
   "execution_count": 59,
   "id": "7ba00d17",
   "metadata": {},
   "outputs": [
    {
     "data": {
      "text/plain": [
       "0            l.upper lobe\n",
       "1        l.upper lobe(S5)\n",
       "2      l.upper lobe(S1+2)\n",
       "3            r.upper lobe\n",
       "4        l.upper lobe(S3)\n",
       "              ...        \n",
       "242                   NaN\n",
       "243                   NaN\n",
       "244                   NaN\n",
       "245                   NaN\n",
       "246                   NaN\n",
       "Name: position, Length: 247, dtype: object"
      ]
     },
     "execution_count": 59,
     "metadata": {},
     "output_type": "execute_result"
    }
   ],
   "source": [
    "df[\"position\"]"
   ]
  },
  {
   "cell_type": "code",
   "execution_count": 60,
   "id": "af1511c6",
   "metadata": {},
   "outputs": [
    {
     "data": {
      "text/plain": [
       "r.upper lobe(S2)       16\n",
       "r.upper lobe(S1)       15\n",
       "r.upper lobe           13\n",
       "r.lower lobe(S6)       10\n",
       "left lung               9\n",
       "l.upper lobe(S1+2)      8\n",
       "l.upper lobe            7\n",
       "r.middle lobe(S4)       7\n",
       "r.upper lobe(S3)        7\n",
       "l.lower lobe(S6)        6\n",
       "r.lower lobe            6\n",
       "l.lower lobe(S10)       6\n",
       "l.lower lobe            6\n",
       "l.upper lobe(S3)        6\n",
       "r.middle lobe           5\n",
       "l.upper lobe(S4)        5\n",
       "r.lower lobe(S10)       3\n",
       "right lung              3\n",
       "r.lower lobe(S9)        3\n",
       "l.upper lobe(S5)        2\n",
       "r.lower lobe(S8)        2\n",
       "r.lower lobe(S7)        2\n",
       "l.lower lobe(S8)        2\n",
       "r.upper lobe(S2-S3)     1\n",
       "r.lower lobe(S9-10)     1\n",
       "r.middle lobe(S5)       1\n",
       "l.lower lobe(S9)        1\n",
       "l.lower lobe(S6-S8)     1\n",
       "Name: position, dtype: int64"
      ]
     },
     "execution_count": 60,
     "metadata": {},
     "output_type": "execute_result"
    }
   ],
   "source": [
    "df[\"position\"].value_counts()"
   ]
  },
  {
   "cell_type": "code",
   "execution_count": 61,
   "id": "8e9c7734",
   "metadata": {},
   "outputs": [],
   "source": [
    "maximum=df[\"position\"].value_counts().idxmax()"
   ]
  },
  {
   "cell_type": "code",
   "execution_count": 62,
   "id": "62d8c3ea",
   "metadata": {},
   "outputs": [],
   "source": [
    "df[\"position\"].replace(np.nan,maximum,inplace=True)"
   ]
  },
  {
   "cell_type": "code",
   "execution_count": 63,
   "id": "7be4e0e2",
   "metadata": {},
   "outputs": [
    {
     "data": {
      "text/plain": [
       "study_id      0\n",
       "subtlety      0\n",
       "size          0\n",
       "age           0\n",
       "gender        0\n",
       "x             0\n",
       "y             0\n",
       "state         0\n",
       "position      0\n",
       "diagnosis    93\n",
       "dtype: int64"
      ]
     },
     "execution_count": 63,
     "metadata": {},
     "output_type": "execute_result"
    }
   ],
   "source": [
    "df.isnull().sum()"
   ]
  },
  {
   "cell_type": "code",
   "execution_count": 64,
   "id": "915e2534",
   "metadata": {},
   "outputs": [
    {
     "data": {
      "text/plain": [
       "0             lung cancer\n",
       "1      pulmonary hematoma\n",
       "2             lung cancer\n",
       "3       Inflammatory mass\n",
       "4             lung cancer\n",
       "              ...        \n",
       "242                   NaN\n",
       "243                   NaN\n",
       "244                   NaN\n",
       "245                   NaN\n",
       "246                   NaN\n",
       "Name: diagnosis, Length: 247, dtype: object"
      ]
     },
     "execution_count": 64,
     "metadata": {},
     "output_type": "execute_result"
    }
   ],
   "source": [
    "df[\"diagnosis\"]"
   ]
  },
  {
   "cell_type": "code",
   "execution_count": 65,
   "id": "25504dfb",
   "metadata": {},
   "outputs": [
    {
     "data": {
      "text/plain": [
       "lung cancer                                       56\n",
       "lung cancer(adenocarcinoma)                       23\n",
       "tuberculoma                                       14\n",
       "granuloma                                          8\n",
       "lung cancer(bronchioloalveolar cell carcinoma)     7\n",
       "unknown                                            4\n",
       "metastasis of colon cancer                         4\n",
       "inflammatory mass                                  4\n",
       "pulmonary tuberculosis                             3\n",
       "lung abscess                                       2\n",
       "Cryptococcosis                                     2\n",
       "lung cancer(squamous cell carcinoma)               2\n",
       "Inflammatory mass                                  2\n",
       "pulmonary hematoma                                 2\n",
       "susp. inflammatory mass                            2\n",
       "hamartoma                                          2\n",
       "sclerosing hemangioma                              2\n",
       "lung cancer(large cell carcinoma)                  1\n",
       "susp. hamartoma                                    1\n",
       "metastasis of uterine cancer                       1\n",
       "organizing pneumonia                               1\n",
       "metastasis of ovarian cancer                       1\n",
       "metastatic lung cancer                             1\n",
       "lung canceror metastasis                           1\n",
       "pneumonia                                          1\n",
       "calcified granuloma                                1\n",
       "lung cancer(adenosquamous carcinoma)               1\n",
       "lung cancer(small cell carcinoma)                  1\n",
       "susp.tuberculoma                                   1\n",
       "organiging pneumonia                               1\n",
       "susp. sclerosing hemangioma                        1\n",
       "susp. lung metastasis                              1\n",
       "Name: diagnosis, dtype: int64"
      ]
     },
     "execution_count": 65,
     "metadata": {},
     "output_type": "execute_result"
    }
   ],
   "source": [
    "df[\"diagnosis\"].value_counts()"
   ]
  },
  {
   "cell_type": "code",
   "execution_count": 66,
   "id": "efaa4a9a",
   "metadata": {},
   "outputs": [],
   "source": [
    "maximum=df[\"diagnosis\"].value_counts().idxmax()"
   ]
  },
  {
   "cell_type": "code",
   "execution_count": 67,
   "id": "ca17d8e8",
   "metadata": {},
   "outputs": [],
   "source": [
    "df[\"diagnosis\"].replace(np.nan,maximum,inplace=True)"
   ]
  },
  {
   "cell_type": "code",
   "execution_count": 68,
   "id": "f1696d49",
   "metadata": {},
   "outputs": [
    {
     "data": {
      "text/plain": [
       "study_id     0\n",
       "subtlety     0\n",
       "size         0\n",
       "age          0\n",
       "gender       0\n",
       "x            0\n",
       "y            0\n",
       "state        0\n",
       "position     0\n",
       "diagnosis    0\n",
       "dtype: int64"
      ]
     },
     "execution_count": 68,
     "metadata": {},
     "output_type": "execute_result"
    }
   ],
   "source": [
    "df.isnull().sum()"
   ]
  },
  {
   "cell_type": "code",
   "execution_count": 69,
   "id": "60e8ca34",
   "metadata": {},
   "outputs": [],
   "source": [
    "import matplotlib as plt\n",
    "from matplotlib import pyplot"
   ]
  },
  {
   "cell_type": "code",
   "execution_count": 70,
   "id": "8eec7f8f",
   "metadata": {},
   "outputs": [
    {
     "data": {
      "text/plain": [
       "(array([167.,  33.,  13.,   5.,   8.,   7.,   3.,   3.,   4.,   4.]),\n",
       " array([ 0. ,  3.1,  6.2,  9.3, 12.4, 15.5, 18.6, 21.7, 24.8, 27.9, 31. ]),\n",
       " <BarContainer object of 10 artists>)"
      ]
     },
     "execution_count": 70,
     "metadata": {},
     "output_type": "execute_result"
    },
    {
     "data": {
      "image/png": "[encoded data removed]",
      "text/plain": [
       "<Figure size 432x288 with 1 Axes>"
      ]
     },
     "metadata": {
      "needs_background": "light"
     },
     "output_type": "display_data"
    }
   ],
   "source": [
    "plt.pyplot.hist(df[\"diagnosis\"],color=\"blue\",ec=\"yellow\")"
   ]
  },
  {
   "cell_type": "markdown",
   "id": "a2c108e6",
   "metadata": {},
   "source": [
    "### 2. Find the total number of patients of each disease (diagnosis) with respect to the disease state(malignant or benign) and plot in a pie chart."
   ]
  },
  {
   "cell_type": "code",
   "execution_count": 71,
   "id": "a943ef93",
   "metadata": {},
   "outputs": [
    {
     "data": {
      "text/plain": [
       "([<matplotlib.patches.Wedge at 0x170700a8130>,\n",
       "  <matplotlib.patches.Wedge at 0x170700a86d0>,\n",
       "  <matplotlib.patches.Wedge at 0x170700a8bb0>,\n",
       "  <matplotlib.patches.Wedge at 0x170700cc0d0>,\n",
       "  <matplotlib.patches.Wedge at 0x170700cc5b0>,\n",
       "  <matplotlib.patches.Wedge at 0x170700cca90>,\n",
       "  <matplotlib.patches.Wedge at 0x170700ccf70>,\n",
       "  <matplotlib.patches.Wedge at 0x17071440490>,\n",
       "  <matplotlib.patches.Wedge at 0x17071440970>,\n",
       "  <matplotlib.patches.Wedge at 0x17071440e50>,\n",
       "  <matplotlib.patches.Wedge at 0x17070032c10>,\n",
       "  <matplotlib.patches.Wedge at 0x1707145d820>,\n",
       "  <matplotlib.patches.Wedge at 0x1707145dd00>,\n",
       "  <matplotlib.patches.Wedge at 0x1706ffe7220>,\n",
       "  <matplotlib.patches.Wedge at 0x1706ffe7700>,\n",
       "  <matplotlib.patches.Wedge at 0x1706ffe7be0>,\n",
       "  <matplotlib.patches.Wedge at 0x1706fff5100>,\n",
       "  <matplotlib.patches.Wedge at 0x1706fff55e0>,\n",
       "  <matplotlib.patches.Wedge at 0x1706fff5ac0>,\n",
       "  <matplotlib.patches.Wedge at 0x1706fff5fa0>,\n",
       "  <matplotlib.patches.Wedge at 0x170714614c0>,\n",
       "  <matplotlib.patches.Wedge at 0x170714619a0>,\n",
       "  <matplotlib.patches.Wedge at 0x17071461e80>,\n",
       "  <matplotlib.patches.Wedge at 0x1707146d3a0>,\n",
       "  <matplotlib.patches.Wedge at 0x1707146d880>,\n",
       "  <matplotlib.patches.Wedge at 0x1707146dd60>,\n",
       "  <matplotlib.patches.Wedge at 0x1707147a280>,\n",
       "  <matplotlib.patches.Wedge at 0x1707147a760>,\n",
       "  <matplotlib.patches.Wedge at 0x1707147ac40>,\n",
       "  <matplotlib.patches.Wedge at 0x17071486160>,\n",
       "  <matplotlib.patches.Wedge at 0x17071486640>,\n",
       "  <matplotlib.patches.Wedge at 0x17071486b20>],\n",
       " [Text(-0.35054586834727886, 1.042649315054996, ''),\n",
       "  Text(-0.647695063423749, -0.8890956668528455, ''),\n",
       "  Text(-0.17415030162497125, -1.0861269135989273, ''),\n",
       "  Text(0.1325904426548767, -1.0919797500487745, ''),\n",
       "  Text(0.33725646230925976, -1.047023437479144, ''),\n",
       "  Text(0.4799715744094368, -0.9897612276498441, ''),\n",
       "  Text(0.5780255148670865, -0.9358880831395597, ''),\n",
       "  Text(0.670100048440955, -0.8723336088214358, ''),\n",
       "  Text(0.7450098066787193, -0.8092962300372698, ''),\n",
       "  Text(0.7949362888017328, -0.7603132885502714, ''),\n",
       "  Text(0.8325727279525352, -0.7189037854050249, ''),\n",
       "  Text(0.8680546281712871, -0.6756338968038895, ''),\n",
       "  Text(0.9012901690886234, -0.6306155969401652, ''),\n",
       "  Text(0.9321933434832768, -0.5839653845609942, ''),\n",
       "  Text(0.960684179852312, -0.5358039814908906, ''),\n",
       "  Text(0.9866889493620762, -0.486256020226755, ''),\n",
       "  Text(1.010140356644312, -0.43544972141282023, ''),\n",
       "  Text(1.0260165077049948, -0.3965981920241779, ''),\n",
       "  Text(1.0357721381417053, -0.37037289027324954, ''),\n",
       "  Text(1.0448575651311123, -0.3439079362100904, ''),\n",
       "  Text(1.053266909885532, -0.3172204541642655, ''),\n",
       "  Text(1.060994731080916, -0.2903277124535903, ''),\n",
       "  Text(1.0680360283776973, -0.26324711221055175, ''),\n",
       "  Text(1.0743862456562927, -0.23599617612278512, ''),\n",
       "  Text(1.0800412739651728, -0.20859253709489903, ''),\n",
       "  Text(1.0849974541795866, -0.18105392683898436, ''),\n",
       "  Text(1.0892515793692228, -0.15339816440118817, ''),\n",
       "  Text(1.0928008968732768, -0.12564314463177834, ''),\n",
       "  Text(1.0956431100815782, -0.09780682660615804, ''),\n",
       "  Text(1.097776379920628, -0.06990722200432237, ''),\n",
       "  Text(1.0991993260435835, -0.04196238345628131, ''),\n",
       "  Text(1.0999110277234225, -0.013990392860976338, '')])"
      ]
     },
     "execution_count": 71,
     "metadata": {},
     "output_type": "execute_result"
    },
    {
     "data": {
      "image/png": "[encoded data removed]",
      "text/plain": [
       "<Figure size 432x288 with 1 Axes>"
      ]
     },
     "metadata": {},
     "output_type": "display_data"
    }
   ],
   "source": [
    "plt.pyplot.pie(df[\"diagnosis\"].value_counts())"
   ]
  },
  {
   "cell_type": "code",
   "execution_count": 107,
   "id": "202d6cab",
   "metadata": {},
   "outputs": [
    {
     "data": {
      "text/plain": [
       "malignant     100\n",
       "non-nodule     93\n",
       "benign         54\n",
       "Name: state, dtype: int64"
      ]
     },
     "execution_count": 107,
     "metadata": {},
     "output_type": "execute_result"
    }
   ],
   "source": [
    "df.state.value_counts()"
   ]
  },
  {
   "cell_type": "code",
   "execution_count": 108,
   "id": "c5feaca5",
   "metadata": {},
   "outputs": [
    {
     "data": {
      "text/plain": [
       "([<matplotlib.patches.Wedge at 0x17071c10460>,\n",
       "  <matplotlib.patches.Wedge at 0x17072dcc6d0>,\n",
       "  <matplotlib.patches.Wedge at 0x17072df7400>],\n",
       " [Text(-1.051228217420429, 0.32391238769004665, 'malignant'),\n",
       "  Text(0.6627131763988918, -1.0004055406820234, 'non-nodule'),\n",
       "  Text(0.6974946049230534, 0.8505887820229197, 'benign')],\n",
       " [Text(-0.5733972095020522, 0.17667948419457088, '40.5%'),\n",
       "  Text(0.3865826862326868, -0.5835698987311803, '37.7%'),\n",
       "  Text(0.3804516026853018, 0.46395751746704705, '21.9%')])"
      ]
     },
     "execution_count": 108,
     "metadata": {},
     "output_type": "execute_result"
    },
    {
     "data": {
      "image/png": "[encoded data removed]",
      "text/plain": [
       "<Figure size 432x288 with 1 Axes>"
      ]
     },
     "metadata": {},
     "output_type": "display_data"
    }
   ],
   "source": [
    "plt.pyplot.pie(df['state'].value_counts(),explode=[0,0.1,0],\n",
    "               shadow=True,labels=['malignant','non-nodule','benign'],\n",
    "               autopct='%1.1f%%',startangle=90)"
   ]
  },
  {
   "cell_type": "code",
   "execution_count": 110,
   "id": "830508b7",
   "metadata": {},
   "outputs": [
    {
     "name": "stdout",
     "output_type": "stream",
     "text": [
      "Malignant:  100\n",
      "Benign:  54\n"
     ]
    },
    {
     "data": {
      "text/plain": [
       "([<matplotlib.patches.Wedge at 0x17072e82d90>,\n",
       "  <matplotlib.patches.Wedge at 0x17072e90550>],\n",
       " [Text(-0.49738907892327644, 0.9811238984796237, 'Malignant'),\n",
       "  Text(0.4973890789232768, -0.9811238984796236, 'Benign')],\n",
       " [Text(-0.27130313395815076, 0.5351584900797947, '64.9%'),\n",
       "  Text(0.2713031339581509, -0.5351584900797945, '35.1%')])"
      ]
     },
     "execution_count": 110,
     "metadata": {},
     "output_type": "execute_result"
    },
    {
     "data": {
      "image/png": "[encoded data removed]",
      "text/plain": [
       "<Figure size 432x288 with 1 Axes>"
      ]
     },
     "metadata": {},
     "output_type": "display_data"
    }
   ],
   "source": [
    "print('Malignant: ',len(data[data.state=='malignant']))\n",
    "print('Benign: ',len(data[data.state=='benign']))\n",
    "plt.pyplot.pie(x=[len(data[data.state=='malignant']),len(data[data.state=='benign'])],labels=['Malignant','Benign'],colors=['purple','pink'],autopct='%1.1f%%')"
   ]
  },
  {
   "cell_type": "markdown",
   "id": "d420f107",
   "metadata": {},
   "source": [
    "### 3. Find and plot via pia chart the total number of patients of each disease (diagnosis) with respect to the gender(Female, Male)\n"
   ]
  },
  {
   "cell_type": "code",
   "execution_count": 72,
   "id": "87559da5",
   "metadata": {},
   "outputs": [
    {
     "data": {
      "text/plain": [
       "lung cancer                                       149\n",
       "lung cancer(adenocarcinoma)                        23\n",
       "tuberculoma                                        14\n",
       "granuloma                                           8\n",
       "lung cancer(bronchioloalveolar cell carcinoma)      7\n",
       "unknown                                             4\n",
       "metastasis of colon cancer                          4\n",
       "inflammatory mass                                   4\n",
       "pulmonary tuberculosis                              3\n",
       "lung abscess                                        2\n",
       "Cryptococcosis                                      2\n",
       "lung cancer(squamous cell carcinoma)                2\n",
       "Inflammatory mass                                   2\n",
       "pulmonary hematoma                                  2\n",
       "susp. inflammatory mass                             2\n",
       "hamartoma                                           2\n",
       "sclerosing hemangioma                               2\n",
       "lung cancer(large cell carcinoma)                   1\n",
       "susp. hamartoma                                     1\n",
       "metastasis of uterine cancer                        1\n",
       "organizing pneumonia                                1\n",
       "metastasis of ovarian cancer                        1\n",
       "metastatic lung cancer                              1\n",
       "lung canceror metastasis                            1\n",
       "pneumonia                                           1\n",
       "calcified granuloma                                 1\n",
       "lung cancer(adenosquamous carcinoma)                1\n",
       "lung cancer(small cell carcinoma)                   1\n",
       "susp.tuberculoma                                    1\n",
       "organiging pneumonia                                1\n",
       "susp. sclerosing hemangioma                         1\n",
       "susp. lung metastasis                               1\n",
       "Name: diagnosis, dtype: int64"
      ]
     },
     "execution_count": 72,
     "metadata": {},
     "output_type": "execute_result"
    }
   ],
   "source": [
    "df['diagnosis'].value_counts()"
   ]
  },
  {
   "cell_type": "code",
   "execution_count": 73,
   "id": "6875e2f1",
   "metadata": {},
   "outputs": [],
   "source": [
    "a=df.groupby(by=\"diagnosis\")"
   ]
  },
  {
   "cell_type": "code",
   "execution_count": 74,
   "id": "91aa9b2b",
   "metadata": {},
   "outputs": [],
   "source": [
    "a = a.get_group('lung cancer')"
   ]
  },
  {
   "cell_type": "code",
   "execution_count": 75,
   "id": "618de3a2",
   "metadata": {},
   "outputs": [
    {
     "data": {
      "text/plain": [
       "([<matplotlib.patches.Wedge at 0x170714dd220>,\n",
       "  <matplotlib.patches.Wedge at 0x170714dd9d0>],\n",
       " [Text(-0.011596189353831868, 1.0999388748437207, 'male'),\n",
       "  Text(0.011596086370122407, -1.0999388759294295, 'female')],\n",
       " [Text(-0.0063251941929992, 0.5999666590056658, '50.3%'),\n",
       "  Text(0.006325138020066767, -0.5999666595978705, '49.7%')])"
      ]
     },
     "execution_count": 75,
     "metadata": {},
     "output_type": "execute_result"
    },
    {
     "data": {
      "image/png": "[encoded data removed]",
      "text/plain": [
       "<Figure size 432x288 with 1 Axes>"
      ]
     },
     "metadata": {},
     "output_type": "display_data"
    }
   ],
   "source": [
    "plt.pyplot.pie(a[\"gender\"].value_counts(),labels=[\"male\",'female'],autopct='%1.1f%%')"
   ]
  },
  {
   "cell_type": "code",
   "execution_count": 76,
   "id": "61dbf450",
   "metadata": {},
   "outputs": [
    {
     "data": {
      "text/plain": [
       "([<matplotlib.patches.Wedge at 0x17071520e20>,\n",
       "  <matplotlib.patches.Wedge at 0x1707152f880>],\n",
       " [Text(-0.5060716130681925, 0.9766737031611724, 'male'),\n",
       "  Text(0.5980847416947964, -1.1542506841028377, 'female')],\n",
       " [Text(-0.2760390616735595, 0.5327311108151849, '65.2%'),\n",
       "  Text(0.3680521487352594, -0.710308113294054, '34.8%')])"
      ]
     },
     "execution_count": 76,
     "metadata": {},
     "output_type": "execute_result"
    },
    {
     "data": {
      "image/png": "[encoded data removed]",
      "text/plain": [
       "<Figure size 432x288 with 1 Axes>"
      ]
     },
     "metadata": {},
     "output_type": "display_data"
    }
   ],
   "source": [
    "a=df.groupby(by=\"diagnosis\")\n",
    "a = a.get_group('lung cancer(adenocarcinoma)')\n",
    "plt.pyplot.pie(a[\"gender\"].value_counts(),labels=[\"male\",'female'],autopct='%1.1f%%',explode=[0,0.2],shadow=True)"
   ]
  },
  {
   "cell_type": "code",
   "execution_count": 77,
   "id": "774ddd96",
   "metadata": {},
   "outputs": [
    {
     "data": {
      "text/plain": [
       "([<matplotlib.patches.Wedge at 0x17071572dc0>,\n",
       "  <matplotlib.patches.Wedge at 0x170715837f0>],\n",
       " [Text(-0.47727208651780745, 0.9910657674599294, 'male'),\n",
       "  Text(0.5640488295210445, -1.171259543361735, 'female')],\n",
       " [Text(-0.26033022900971314, 0.5405813277054159, '64.3%'),\n",
       "  Text(0.34710697201295043, -0.7207751036072215, '35.7%')])"
      ]
     },
     "execution_count": 77,
     "metadata": {},
     "output_type": "execute_result"
    },
    {
     "data": {
      "image/png": "[encoded data removed]",
      "text/plain": [
       "<Figure size 432x288 with 1 Axes>"
      ]
     },
     "metadata": {},
     "output_type": "display_data"
    }
   ],
   "source": [
    "a=df.groupby(by=\"diagnosis\")\n",
    "a = a.get_group('tuberculoma')\n",
    "plt.pyplot.pie(a[\"gender\"].value_counts(),labels=[\"male\",'female'],autopct='%1.1f%%',explode=[0,0.2],shadow=True)"
   ]
  },
  {
   "cell_type": "code",
   "execution_count": 78,
   "id": "24b3c847",
   "metadata": {},
   "outputs": [
    {
     "data": {
      "text/plain": [
       "([<matplotlib.patches.Wedge at 0x170715c8910>,\n",
       "  <matplotlib.patches.Wedge at 0x170715d7340>],\n",
       " [Text(-0.7778174593052023, 0.7778174593052024, 'male'),\n",
       "  Text(0.9192388155425116, -0.9192388155425121, 'female')],\n",
       " [Text(-0.42426406871192845, 0.4242640687119285, '75.0%'),\n",
       "  Text(0.5656854249492379, -0.5656854249492381, '25.0%')])"
      ]
     },
     "execution_count": 78,
     "metadata": {},
     "output_type": "execute_result"
    },
    {
     "data": {
      "image/png": "[encoded data removed]",
      "text/plain": [
       "<Figure size 432x288 with 1 Axes>"
      ]
     },
     "metadata": {},
     "output_type": "display_data"
    }
   ],
   "source": [
    "a=df.groupby(by=\"diagnosis\")\n",
    "a = a.get_group('granuloma')\n",
    "plt.pyplot.pie(a[\"gender\"].value_counts(),labels=[\"male\",'female'],autopct='%1.1f%%',explode=[0,0.2],shadow=True)"
   ]
  },
  {
   "cell_type": "code",
   "execution_count": 79,
   "id": "9a0393cf",
   "metadata": {},
   "outputs": [
    {
     "data": {
      "text/plain": [
       "([<matplotlib.patches.Wedge at 0x1707161a5e0>,\n",
       "  <matplotlib.patches.Wedge at 0x1707161afd0>],\n",
       " [Text(-0.24477311341532162, 1.0724206837565984, 'male'),\n",
       "  Text(0.2892774345176075, -1.2674062355373321, 'female')],\n",
       " [Text(-0.13351260731744813, 0.5849567365945082, '57.1%'),\n",
       "  Text(0.1780168827800661, -0.7799422987922043, '42.9%')])"
      ]
     },
     "execution_count": 79,
     "metadata": {},
     "output_type": "execute_result"
    },
    {
     "data": {
      "image/png": "[encoded data removed]",
      "text/plain": [
       "<Figure size 432x288 with 1 Axes>"
      ]
     },
     "metadata": {},
     "output_type": "display_data"
    }
   ],
   "source": [
    "a=df.groupby(by=\"diagnosis\")\n",
    "a = a.get_group('lung cancer(bronchioloalveolar cell carcinoma)')\n",
    "plt.pyplot.pie(a[\"gender\"].value_counts(),labels=[\"male\",'female'],autopct='%1.1f%%',explode=[0,0.2],shadow=True)"
   ]
  },
  {
   "cell_type": "code",
   "execution_count": 80,
   "id": "86e6bcbb",
   "metadata": {},
   "outputs": [
    {
     "data": {
      "text/plain": [
       "([<matplotlib.patches.Wedge at 0x17071672130>],\n",
       " [Text(-1.1, 1.3471114790620887e-16, 'female')],\n",
       " [Text(-0.6, 7.347880794884119e-17, '100.0%')])"
      ]
     },
     "execution_count": 80,
     "metadata": {},
     "output_type": "execute_result"
    },
    {
     "data": {
      "image/png": "[encoded data removed]",
      "text/plain": [
       "<Figure size 432x288 with 1 Axes>"
      ]
     },
     "metadata": {},
     "output_type": "display_data"
    }
   ],
   "source": [
    "a=df.groupby(by=\"diagnosis\")\n",
    "a = a.get_group('unknown')\n",
    "plt.pyplot.pie(a[\"gender\"].value_counts(),labels=['female'],autopct='%1.1f%%',explode=[0],shadow=True)"
   ]
  },
  {
   "cell_type": "code",
   "execution_count": 81,
   "id": "15d23bd7",
   "metadata": {},
   "outputs": [
    {
     "data": {
      "text/plain": [
       "([<matplotlib.patches.Wedge at 0x170716ba340>,\n",
       "  <matplotlib.patches.Wedge at 0x170716bad30>],\n",
       " [Text(-0.7778174593052023, 0.7778174593052024, 'male'),\n",
       "  Text(0.9192388155425116, -0.9192388155425121, 'female')],\n",
       " [Text(-0.42426406871192845, 0.4242640687119285, '75.0%'),\n",
       "  Text(0.5656854249492379, -0.5656854249492381, '25.0%')])"
      ]
     },
     "execution_count": 81,
     "metadata": {},
     "output_type": "execute_result"
    },
    {
     "data": {
      "image/png": "[encoded data removed]",
      "text/plain": [
       "<Figure size 432x288 with 1 Axes>"
      ]
     },
     "metadata": {},
     "output_type": "display_data"
    }
   ],
   "source": [
    "a=df.groupby(by=\"diagnosis\")\n",
    "a = a.get_group('metastasis of colon cancer')\n",
    "plt.pyplot.pie(a[\"gender\"].value_counts(),labels=['male','female'],autopct='%1.1f%%',explode=[0,0.2],shadow=True)"
   ]
  },
  {
   "cell_type": "code",
   "execution_count": 82,
   "id": "d6279083",
   "metadata": {},
   "outputs": [
    {
     "data": {
      "text/plain": [
       "([<matplotlib.patches.Wedge at 0x17071702f40>,\n",
       "  <matplotlib.patches.Wedge at 0x1707170f970>],\n",
       " [Text(6.735557395310444e-17, 1.1, 'male'),\n",
       "  Text(-2.3880612583373386e-16, -1.3, 'female')],\n",
       " [Text(3.6739403974420595e-17, 0.6, '50.0%'),\n",
       "  Text(-1.4695761589768238e-16, -0.8, '50.0%')])"
      ]
     },
     "execution_count": 82,
     "metadata": {},
     "output_type": "execute_result"
    },
    {
     "data": {
      "image/png": "[encoded data removed]",
      "text/plain": [
       "<Figure size 432x288 with 1 Axes>"
      ]
     },
     "metadata": {},
     "output_type": "display_data"
    }
   ],
   "source": [
    "a=df.groupby(by=\"diagnosis\")\n",
    "a = a.get_group('inflammatory mass')\n",
    "plt.pyplot.pie(a[\"gender\"].value_counts(),labels=['male','female'],autopct='%1.1f%%',explode=[0,0.2],shadow=True)"
   ]
  },
  {
   "cell_type": "code",
   "execution_count": 83,
   "id": "78032813",
   "metadata": {},
   "outputs": [
    {
     "data": {
      "text/plain": [
       "([<matplotlib.patches.Wedge at 0x17071752b80>],\n",
       " [Text(-1.1, 1.3471114790620887e-16, 'male')],\n",
       " [Text(-0.6, 7.347880794884119e-17, '100.0%')])"
      ]
     },
     "execution_count": 83,
     "metadata": {},
     "output_type": "execute_result"
    },
    {
     "data": {
      "image/png": "[encoded data removed]",
      "text/plain": [
       "<Figure size 432x288 with 1 Axes>"
      ]
     },
     "metadata": {},
     "output_type": "display_data"
    }
   ],
   "source": [
    "a=df.groupby(by=\"diagnosis\")\n",
    "a = a.get_group('pulmonary tuberculosis')\n",
    "plt.pyplot.pie(a[\"gender\"].value_counts(),labels=['male'],autopct='%1.1f%%',explode=[0],shadow=True)"
   ]
  },
  {
   "cell_type": "code",
   "execution_count": 84,
   "id": "37cb0bfe",
   "metadata": {},
   "outputs": [
    {
     "data": {
      "text/plain": [
       "([<matplotlib.patches.Wedge at 0x1707179be20>,\n",
       "  <matplotlib.patches.Wedge at 0x170717ab850>],\n",
       " [Text(6.735557395310444e-17, 1.1, 'male'),\n",
       "  Text(-2.3880612583373386e-16, -1.3, 'female')],\n",
       " [Text(3.6739403974420595e-17, 0.6, '50.0%'),\n",
       "  Text(-1.4695761589768238e-16, -0.8, '50.0%')])"
      ]
     },
     "execution_count": 84,
     "metadata": {},
     "output_type": "execute_result"
    },
    {
     "data": {
      "image/png": "[encoded data removed]",
      "text/plain": [
       "<Figure size 432x288 with 1 Axes>"
      ]
     },
     "metadata": {},
     "output_type": "display_data"
    }
   ],
   "source": [
    "a=df.groupby(by=\"diagnosis\")\n",
    "a = a.get_group('lung abscess')\n",
    "plt.pyplot.pie(a[\"gender\"].value_counts(),labels=['male','female'],autopct='%1.1f%%',explode=[0,0.2],shadow=True)"
   ]
  },
  {
   "cell_type": "code",
   "execution_count": 85,
   "id": "31831096",
   "metadata": {},
   "outputs": [
    {
     "data": {
      "text/plain": [
       "([<matplotlib.patches.Wedge at 0x170717eb6a0>],\n",
       " [Text(-1.3, 1.5920408388915593e-16, 'female')],\n",
       " [Text(-0.8, 9.797174393178826e-17, '100.0%')])"
      ]
     },
     "execution_count": 85,
     "metadata": {},
     "output_type": "execute_result"
    },
    {
     "data": {
      "image/png": "[encoded data removed]",
      "text/plain": [
       "<Figure size 432x288 with 1 Axes>"
      ]
     },
     "metadata": {},
     "output_type": "display_data"
    }
   ],
   "source": [
    "a=df.groupby(by=\"diagnosis\")\n",
    "a = a.get_group('Cryptococcosis')\n",
    "plt.pyplot.pie(a[\"gender\"].value_counts(),labels=['female'],autopct='%1.1f%%',explode=[\n",
    "    0.2],shadow=True)\n"
   ]
  },
  {
   "cell_type": "code",
   "execution_count": 86,
   "id": "4a6569ea",
   "metadata": {},
   "outputs": [
    {
     "data": {
      "text/plain": [
       "([<matplotlib.patches.Wedge at 0x1707182fb50>],\n",
       " [Text(-1.3, 1.5920408388915593e-16, 'male')],\n",
       " [Text(-0.8, 9.797174393178826e-17, '100.0%')])"
      ]
     },
     "execution_count": 86,
     "metadata": {},
     "output_type": "execute_result"
    },
    {
     "data": {
      "image/png": "[encoded data removed]",
      "text/plain": [
       "<Figure size 432x288 with 1 Axes>"
      ]
     },
     "metadata": {},
     "output_type": "display_data"
    }
   ],
   "source": [
    "a=df.groupby(by=\"diagnosis\")\n",
    "a = a.get_group('lung cancer(squamous cell carcinoma)')\n",
    "plt.pyplot.pie(a[\"gender\"].value_counts(),labels=['male'],autopct='%1.1f%%',explode=[\n",
    "    0.2],shadow=True)"
   ]
  },
  {
   "cell_type": "code",
   "execution_count": 87,
   "id": "10946845",
   "metadata": {},
   "outputs": [
    {
     "data": {
      "text/plain": [
       "([<matplotlib.patches.Wedge at 0x17071875df0>],\n",
       " [Text(-1.3, 1.5920408388915593e-16, 'female')],\n",
       " [Text(-0.8, 9.797174393178826e-17, '100.0%')])"
      ]
     },
     "execution_count": 87,
     "metadata": {},
     "output_type": "execute_result"
    },
    {
     "data": {
      "image/png": "[encoded data removed]",
      "text/plain": [
       "<Figure size 432x288 with 1 Axes>"
      ]
     },
     "metadata": {},
     "output_type": "display_data"
    }
   ],
   "source": [
    "a=df.groupby(by=\"diagnosis\")\n",
    "a = a.get_group('Inflammatory mass')\n",
    "plt.pyplot.pie(a[\"gender\"].value_counts(),labels=['female'],autopct='%1.1f%%',explode=[0.2],shadow=True)\n"
   ]
  },
  {
   "cell_type": "code",
   "execution_count": 88,
   "id": "bdec36eb",
   "metadata": {},
   "outputs": [
    {
     "data": {
      "text/plain": [
       "([<matplotlib.patches.Wedge at 0x170718cb0a0>,\n",
       "  <matplotlib.patches.Wedge at 0x170718cba90>],\n",
       " [Text(6.735557395310444e-17, 1.1, 'male'),\n",
       "  Text(-2.3880612583373386e-16, -1.3, 'female')],\n",
       " [Text(3.6739403974420595e-17, 0.6, '50.0%'),\n",
       "  Text(-1.4695761589768238e-16, -0.8, '50.0%')])"
      ]
     },
     "execution_count": 88,
     "metadata": {},
     "output_type": "execute_result"
    },
    {
     "data": {
      "image/png": "[encoded data removed]",
      "text/plain": [
       "<Figure size 432x288 with 1 Axes>"
      ]
     },
     "metadata": {},
     "output_type": "display_data"
    }
   ],
   "source": [
    "a=df.groupby(by=\"diagnosis\")\n",
    "a = a.get_group('pulmonary hematoma')\n",
    "plt.pyplot.pie(a[\"gender\"].value_counts(),labels=[\"male\",'female'],autopct='%1.1f%%',explode=[0,0.2],shadow=True)"
   ]
  },
  {
   "cell_type": "code",
   "execution_count": 89,
   "id": "a62405f0",
   "metadata": {},
   "outputs": [
    {
     "data": {
      "text/plain": [
       "([<matplotlib.patches.Wedge at 0x17071910d60>,\n",
       "  <matplotlib.patches.Wedge at 0x1707191f790>],\n",
       " [Text(6.735557395310444e-17, 1.1, 'male'),\n",
       "  Text(-2.3880612583373386e-16, -1.3, 'female')],\n",
       " [Text(3.6739403974420595e-17, 0.6, '50.0%'),\n",
       "  Text(-1.4695761589768238e-16, -0.8, '50.0%')])"
      ]
     },
     "execution_count": 89,
     "metadata": {},
     "output_type": "execute_result"
    },
    {
     "data": {
      "image/png": "[encoded data removed]",
      "text/plain": [
       "<Figure size 432x288 with 1 Axes>"
      ]
     },
     "metadata": {},
     "output_type": "display_data"
    }
   ],
   "source": [
    "a=df.groupby(by=\"diagnosis\")\n",
    "a = a.get_group('susp. inflammatory mass')\n",
    "plt.pyplot.pie(a[\"gender\"].value_counts(),labels=[\"male\",'female'],autopct='%1.1f%%',explode=[0,0.2],shadow=True)"
   ]
  },
  {
   "cell_type": "code",
   "execution_count": 90,
   "id": "8b8573b4",
   "metadata": {},
   "outputs": [
    {
     "data": {
      "text/plain": [
       "([<matplotlib.patches.Wedge at 0x170719638e0>],\n",
       " [Text(-1.3, 1.5920408388915593e-16, 'female')],\n",
       " [Text(-0.8, 9.797174393178826e-17, '100.0%')])"
      ]
     },
     "execution_count": 90,
     "metadata": {},
     "output_type": "execute_result"
    },
    {
     "data": {
      "image/png": "[encoded data removed]",
      "text/plain": [
       "<Figure size 432x288 with 1 Axes>"
      ]
     },
     "metadata": {},
     "output_type": "display_data"
    }
   ],
   "source": [
    "a=df.groupby(by=\"diagnosis\")\n",
    "a = a.get_group('hamartoma')\n",
    "plt.pyplot.pie(a[\"gender\"].value_counts(),labels=['female'],autopct='%1.1f%%',explode=[0.2],shadow=True)"
   ]
  },
  {
   "cell_type": "code",
   "execution_count": 91,
   "id": "d0da0596",
   "metadata": {},
   "outputs": [
    {
     "data": {
      "text/plain": [
       "([<matplotlib.patches.Wedge at 0x170719a99d0>],\n",
       " [Text(-1.3, 1.5920408388915593e-16, 'female')],\n",
       " [Text(-0.8, 9.797174393178826e-17, '100.0%')])"
      ]
     },
     "execution_count": 91,
     "metadata": {},
     "output_type": "execute_result"
    },
    {
     "data": {
      "image/png": "[encoded data removed]",
      "text/plain": [
       "<Figure size 432x288 with 1 Axes>"
      ]
     },
     "metadata": {},
     "output_type": "display_data"
    }
   ],
   "source": [
    "a=df.groupby(by=\"diagnosis\")\n",
    "a = a.get_group('sclerosing hemangioma')\n",
    "plt.pyplot.pie(a[\"gender\"].value_counts(),labels=['female'],autopct='%1.1f%%',explode=[0.2],shadow=True)"
   ]
  },
  {
   "cell_type": "code",
   "execution_count": 92,
   "id": "232e9175",
   "metadata": {},
   "outputs": [
    {
     "data": {
      "text/plain": [
       "([<matplotlib.patches.Wedge at 0x170719f2df0>],\n",
       " [Text(-1.3, 1.5920408388915593e-16, 'male')],\n",
       " [Text(-0.8, 9.797174393178826e-17, '100.0%')])"
      ]
     },
     "execution_count": 92,
     "metadata": {},
     "output_type": "execute_result"
    },
    {
     "data": {
      "image/png": "[encoded data removed]",
      "text/plain": [
       "<Figure size 432x288 with 1 Axes>"
      ]
     },
     "metadata": {},
     "output_type": "display_data"
    }
   ],
   "source": [
    "a=df.groupby(by=\"diagnosis\")\n",
    "a = a.get_group('lung cancer(large cell carcinoma)')\n",
    "plt.pyplot.pie(a[\"gender\"].value_counts(),labels=[\"male\"],autopct='%1.1f%%',explode=[0.2],shadow=True)"
   ]
  },
  {
   "cell_type": "code",
   "execution_count": 93,
   "id": "98b78a0c",
   "metadata": {},
   "outputs": [
    {
     "data": {
      "text/plain": [
       "([<matplotlib.patches.Wedge at 0x17071a4b100>],\n",
       " [Text(-1.3, 1.5920408388915593e-16, 'male')],\n",
       " [Text(-0.8, 9.797174393178826e-17, '100.0%')])"
      ]
     },
     "execution_count": 93,
     "metadata": {},
     "output_type": "execute_result"
    },
    {
     "data": {
      "image/png": "[encoded data removed]",
      "text/plain": [
       "<Figure size 432x288 with 1 Axes>"
      ]
     },
     "metadata": {},
     "output_type": "display_data"
    }
   ],
   "source": [
    "a=df.groupby(by=\"diagnosis\")\n",
    "a = a.get_group('susp. hamartoma')\n",
    "plt.pyplot.pie(a[\"gender\"].value_counts(),labels=[\"male\"],autopct='%1.1f%%',explode=[0.2],shadow=True)"
   ]
  },
  {
   "cell_type": "code",
   "execution_count": 94,
   "id": "4ed7cb13",
   "metadata": {},
   "outputs": [
    {
     "data": {
      "text/plain": [
       "([<matplotlib.patches.Wedge at 0x17071a902e0>],\n",
       " [Text(-1.3, 1.5920408388915593e-16, 'female')],\n",
       " [Text(-0.8, 9.797174393178826e-17, '100.0%')])"
      ]
     },
     "execution_count": 94,
     "metadata": {},
     "output_type": "execute_result"
    },
    {
     "data": {
      "image/png": "[encoded data removed]",
      "text/plain": [
       "<Figure size 432x288 with 1 Axes>"
      ]
     },
     "metadata": {},
     "output_type": "display_data"
    }
   ],
   "source": [
    "a=df.groupby(by=\"diagnosis\")\n",
    "a = a.get_group('metastasis of uterine cancer')\n",
    "plt.pyplot.pie(a[\"gender\"].value_counts(),labels=['female'],autopct='%1.1f%%',explode=[0.2],shadow=True)"
   ]
  },
  {
   "cell_type": "code",
   "execution_count": 95,
   "id": "ba4b84d2",
   "metadata": {},
   "outputs": [
    {
     "data": {
      "text/plain": [
       "([<matplotlib.patches.Wedge at 0x17071ad5520>],\n",
       " [Text(-1.3, 1.5920408388915593e-16, 'female')],\n",
       " [Text(-0.8, 9.797174393178826e-17, '100.0%')])"
      ]
     },
     "execution_count": 95,
     "metadata": {},
     "output_type": "execute_result"
    },
    {
     "data": {
      "image/png": "[encoded data removed]",
      "text/plain": [
       "<Figure size 432x288 with 1 Axes>"
      ]
     },
     "metadata": {},
     "output_type": "display_data"
    }
   ],
   "source": [
    "a=df.groupby(by=\"diagnosis\")\n",
    "a = a.get_group('organizing pneumonia')\n",
    "plt.pyplot.pie(a[\"gender\"].value_counts(),labels=['female'],autopct='%1.1f%%',explode=[0.2],shadow=True)"
   ]
  },
  {
   "cell_type": "code",
   "execution_count": 96,
   "id": "f61d440e",
   "metadata": {},
   "outputs": [
    {
     "data": {
      "text/plain": [
       "([<matplotlib.patches.Wedge at 0x17071b1b820>],\n",
       " [Text(-1.3, 1.5920408388915593e-16, 'female')],\n",
       " [Text(-0.8, 9.797174393178826e-17, '100.0%')])"
      ]
     },
     "execution_count": 96,
     "metadata": {},
     "output_type": "execute_result"
    },
    {
     "data": {
      "image/png": "[encoded data removed]",
      "text/plain": [
       "<Figure size 432x288 with 1 Axes>"
      ]
     },
     "metadata": {},
     "output_type": "display_data"
    }
   ],
   "source": [
    "a=df.groupby(by=\"diagnosis\")\n",
    "a = a.get_group('metastasis of ovarian cancer')\n",
    "plt.pyplot.pie(a[\"gender\"].value_counts(),labels=['female'],autopct='%1.1f%%',explode=[0.2],shadow=True)"
   ]
  },
  {
   "cell_type": "code",
   "execution_count": 97,
   "id": "606f90ff",
   "metadata": {},
   "outputs": [
    {
     "data": {
      "text/plain": [
       "([<matplotlib.patches.Wedge at 0x17071b63a00>],\n",
       " [Text(-1.3, 1.5920408388915593e-16, 'female')],\n",
       " [Text(-0.8, 9.797174393178826e-17, '100.0%')])"
      ]
     },
     "execution_count": 97,
     "metadata": {},
     "output_type": "execute_result"
    },
    {
     "data": {
      "image/png": "[encoded data removed]",
      "text/plain": [
       "<Figure size 432x288 with 1 Axes>"
      ]
     },
     "metadata": {},
     "output_type": "display_data"
    }
   ],
   "source": [
    "a=df.groupby(by=\"diagnosis\")\n",
    "a = a.get_group('metastatic lung cancer')\n",
    "plt.pyplot.pie(a[\"gender\"].value_counts(),labels=['female'],autopct='%1.1f%%',explode=[0.2],shadow=True)"
   ]
  },
  {
   "cell_type": "code",
   "execution_count": 98,
   "id": "6cd4dac9",
   "metadata": {},
   "outputs": [
    {
     "data": {
      "text/plain": [
       "([<matplotlib.patches.Wedge at 0x17071baaca0>],\n",
       " [Text(-1.3, 1.5920408388915593e-16, 'female')],\n",
       " [Text(-0.8, 9.797174393178826e-17, '100.0%')])"
      ]
     },
     "execution_count": 98,
     "metadata": {},
     "output_type": "execute_result"
    },
    {
     "data": {
      "image/png": "[encoded data removed]",
      "text/plain": [
       "<Figure size 432x288 with 1 Axes>"
      ]
     },
     "metadata": {},
     "output_type": "display_data"
    }
   ],
   "source": [
    "a=df.groupby(by=\"diagnosis\")\n",
    "a = a.get_group('lung canceror metastasis')\n",
    "plt.pyplot.pie(a[\"gender\"].value_counts(),labels=['female'],autopct='%1.1f%%',explode=[0.2],shadow=True)"
   ]
  },
  {
   "cell_type": "code",
   "execution_count": 99,
   "id": "048e4a2c",
   "metadata": {},
   "outputs": [
    {
     "data": {
      "text/plain": [
       "([<matplotlib.patches.Wedge at 0x17071bf2e20>],\n",
       " [Text(-1.3, 1.5920408388915593e-16, 'female')],\n",
       " [Text(-0.8, 9.797174393178826e-17, '100.0%')])"
      ]
     },
     "execution_count": 99,
     "metadata": {},
     "output_type": "execute_result"
    },
    {
     "data": {
      "image/png": "[encoded data removed]",
      "text/plain": [
       "<Figure size 432x288 with 1 Axes>"
      ]
     },
     "metadata": {},
     "output_type": "display_data"
    }
   ],
   "source": [
    "a=df.groupby(by=\"diagnosis\")\n",
    "a = a.get_group('pneumonia')\n",
    "plt.pyplot.pie(a[\"gender\"].value_counts(),labels=['female'],autopct='%1.1f%%',explode=[0.2],shadow=True)"
   ]
  },
  {
   "cell_type": "code",
   "execution_count": 100,
   "id": "d694bbbe",
   "metadata": {},
   "outputs": [
    {
     "data": {
      "text/plain": [
       "([<matplotlib.patches.Wedge at 0x17071c4a070>],\n",
       " [Text(-1.3, 1.5920408388915593e-16, 'male')],\n",
       " [Text(-0.8, 9.797174393178826e-17, '100.0%')])"
      ]
     },
     "execution_count": 100,
     "metadata": {},
     "output_type": "execute_result"
    },
    {
     "data": {
      "image/png": "[encoded data removed]",
      "text/plain": [
       "<Figure size 432x288 with 1 Axes>"
      ]
     },
     "metadata": {},
     "output_type": "display_data"
    }
   ],
   "source": [
    "a=df.groupby(by=\"diagnosis\")\n",
    "a = a.get_group('calcified granuloma')\n",
    "plt.pyplot.pie(a[\"gender\"].value_counts(),labels=[\"male\"],autopct='%1.1f%%',explode=[0.2],shadow=True)"
   ]
  },
  {
   "cell_type": "code",
   "execution_count": 101,
   "id": "185f2617",
   "metadata": {},
   "outputs": [
    {
     "data": {
      "text/plain": [
       "([<matplotlib.patches.Wedge at 0x17071c8d370>],\n",
       " [Text(-1.3, 1.5920408388915593e-16, 'male')],\n",
       " [Text(-0.8, 9.797174393178826e-17, '100.0%')])"
      ]
     },
     "execution_count": 101,
     "metadata": {},
     "output_type": "execute_result"
    },
    {
     "data": {
      "image/png": "[encoded data removed]",
      "text/plain": [
       "<Figure size 432x288 with 1 Axes>"
      ]
     },
     "metadata": {},
     "output_type": "display_data"
    }
   ],
   "source": [
    "a=df.groupby(by=\"diagnosis\")\n",
    "a = a.get_group('lung cancer(adenosquamous carcinoma)')\n",
    "plt.pyplot.pie(a[\"gender\"].value_counts(),labels=[\"male\"],autopct='%1.1f%%',explode=[0.2],shadow=True)"
   ]
  },
  {
   "cell_type": "code",
   "execution_count": 102,
   "id": "e147ab2c",
   "metadata": {},
   "outputs": [
    {
     "data": {
      "text/plain": [
       "([<matplotlib.patches.Wedge at 0x17071cd4520>],\n",
       " [Text(-1.3, 1.5920408388915593e-16, 'male')],\n",
       " [Text(-0.8, 9.797174393178826e-17, '100.0%')])"
      ]
     },
     "execution_count": 102,
     "metadata": {},
     "output_type": "execute_result"
    },
    {
     "data": {
      "image/png": "[encoded data removed]",
      "text/plain": [
       "<Figure size 432x288 with 1 Axes>"
      ]
     },
     "metadata": {},
     "output_type": "display_data"
    }
   ],
   "source": [
    "a=df.groupby(by=\"diagnosis\")\n",
    "a = a.get_group('lung cancer(small cell carcinoma)')\n",
    "plt.pyplot.pie(a[\"gender\"].value_counts(),labels=[\"male\"],autopct='%1.1f%%',explode=[0.2],shadow=True)"
   ]
  },
  {
   "cell_type": "code",
   "execution_count": 103,
   "id": "45bea9f1",
   "metadata": {},
   "outputs": [
    {
     "data": {
      "text/plain": [
       "([<matplotlib.patches.Wedge at 0x17072cec790>],\n",
       " [Text(-1.3, 1.5920408388915593e-16, 'male')],\n",
       " [Text(-0.8, 9.797174393178826e-17, '100.0%')])"
      ]
     },
     "execution_count": 103,
     "metadata": {},
     "output_type": "execute_result"
    },
    {
     "data": {
      "image/png": "[encoded data removed]",
      "text/plain": [
       "<Figure size 432x288 with 1 Axes>"
      ]
     },
     "metadata": {},
     "output_type": "display_data"
    }
   ],
   "source": [
    "a=df.groupby(by=\"diagnosis\")\n",
    "a = a.get_group('susp.tuberculoma')\n",
    "plt.pyplot.pie(a[\"gender\"].value_counts(),labels=[\"male\"],autopct='%1.1f%%',explode=[0.2],shadow=True)"
   ]
  },
  {
   "cell_type": "code",
   "execution_count": 104,
   "id": "4e92120d",
   "metadata": {},
   "outputs": [
    {
     "data": {
      "text/plain": [
       "([<matplotlib.patches.Wedge at 0x17072d31a30>],\n",
       " [Text(-1.3, 1.5920408388915593e-16, 'male')],\n",
       " [Text(-0.8, 9.797174393178826e-17, '100.0%')])"
      ]
     },
     "execution_count": 104,
     "metadata": {},
     "output_type": "execute_result"
    },
    {
     "data": {
      "image/png": "[encoded data removed]",
      "text/plain": [
       "<Figure size 432x288 with 1 Axes>"
      ]
     },
     "metadata": {},
     "output_type": "display_data"
    }
   ],
   "source": [
    "a=df.groupby(by=\"diagnosis\")\n",
    "a = a.get_group('organiging pneumonia')\n",
    "plt.pyplot.pie(a[\"gender\"].value_counts(),labels=[\"male\"],autopct='%1.1f%%',explode=[0.2],shadow=True)\n"
   ]
  },
  {
   "cell_type": "code",
   "execution_count": 105,
   "id": "56c9d096",
   "metadata": {},
   "outputs": [
    {
     "data": {
      "text/plain": [
       "([<matplotlib.patches.Wedge at 0x17072d7ac10>],\n",
       " [Text(-1.3, 1.5920408388915593e-16, 'female')],\n",
       " [Text(-0.8, 9.797174393178826e-17, '100.0%')])"
      ]
     },
     "execution_count": 105,
     "metadata": {},
     "output_type": "execute_result"
    },
    {
     "data": {
      "image/png": "[encoded data removed]",
      "text/plain": [
       "<Figure size 432x288 with 1 Axes>"
      ]
     },
     "metadata": {},
     "output_type": "display_data"
    }
   ],
   "source": [
    "a=df.groupby(by=\"diagnosis\")\n",
    "a = a.get_group('susp. sclerosing hemangioma')\n",
    "plt.pyplot.pie(a[\"gender\"].value_counts(),labels=['female'],autopct='%1.1f%%',explode=[0.2],shadow=True)"
   ]
  },
  {
   "cell_type": "code",
   "execution_count": 106,
   "id": "e7054f46",
   "metadata": {},
   "outputs": [
    {
     "data": {
      "text/plain": [
       "([<matplotlib.patches.Wedge at 0x17072dbeb20>],\n",
       " [Text(-1.3, 1.5920408388915593e-16, 'female')],\n",
       " [Text(-0.8, 9.797174393178826e-17, '100.0%')])"
      ]
     },
     "execution_count": 106,
     "metadata": {},
     "output_type": "execute_result"
    },
    {
     "data": {
      "image/png": "[encoded data removed]",
      "text/plain": [
       "<Figure size 432x288 with 1 Axes>"
      ]
     },
     "metadata": {},
     "output_type": "display_data"
    }
   ],
   "source": [
    "a=df.groupby(by=\"diagnosis\")\n",
    "a = a.get_group('susp. lung metastasis')\n",
    "plt.pyplot.pie(a[\"gender\"].value_counts(),labels=['female'],autopct='%1.1f%%',explode=[0.2],shadow=True)"
   ]
  },
  {
   "cell_type": "code",
   "execution_count": null,
   "id": "6fe29c69",
   "metadata": {},
   "outputs": [],
   "source": []
  },
  {
   "cell_type": "code",
   "execution_count": null,
   "id": "d826d7a2",
   "metadata": {},
   "outputs": [],
   "source": []
  },
  {
   "cell_type": "code",
   "execution_count": null,
   "id": "ad16d0f1",
   "metadata": {},
   "outputs": [],
   "source": []
  }
 ],
 "metadata": {
  "kernelspec": {
   "display_name": "Python 3 (ipykernel)",
   "language": "python",
   "name": "python3"
  },
  "language_info": {
   "codemirror_mode": {
    "name": "ipython",
    "version": 3
   },
   "file_extension": ".py",
   "mimetype": "text/x-python",
   "name": "python",
   "nbconvert_exporter": "python",
   "pygments_lexer": "ipython3",
   "version": "3.9.7"
  }
 },
 "nbformat": 4,
 "nbformat_minor": 5
}
